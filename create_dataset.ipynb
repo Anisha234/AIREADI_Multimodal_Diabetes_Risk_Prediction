{
 "cells": [
  {
   "cell_type": "code",
   "execution_count": 6,
   "id": "66a09fc9-92cf-4e35-94c5-34e16abf4e72",
   "metadata": {},
   "outputs": [
    {
     "name": "stdout",
     "output_type": "stream",
     "text": [
      "(1067, 267)\n",
      "Index(['participant_id', 'mean_glucose', 'spike_resolutions',\n",
      "       'expected_daily_spikes', 'hyper_time_pcts', 'relative_spikes',\n",
      "       'nocturnal_hypoglycemias', 'study_group_id'],\n",
      "      dtype='object')\n",
      "(1011, 10)\n",
      "(1011, 274)\n"
     ]
    }
   ],
   "source": [
    "import pandas as pd\n",
    "import numpy as np\n",
    "from data_processing import bin_features, extract_df_with_features\n",
    "\n",
    "df = pd.read_csv(\"all_features_all_patients_binned.csv\")\n",
    "df_clinical1 = pd.read_csv(r\"dataframe_glucose_feats.csv\")\n",
    "df_clinical = df_clinical1[['participant_id','mean_glucose', 'spike_resolutions', 'expected_daily_spikes',\n",
    "       'hyper_time_pcts', 'relative_spikes', 'nocturnal_hypoglycemias','study_group_id']]\n",
    "print(df.shape)\n",
    "print(df_clinical.columns) \n",
    "print(df_clinical1.shape)\n",
    "df = df.merge(df_clinical, on = \"participant_id\")\n",
    "print(df.shape)\n"
   ]
  },
  {
   "cell_type": "code",
   "execution_count": 7,
   "id": "d5cf4168-975f-42bb-8c2b-b40ea2916ce6",
   "metadata": {},
   "outputs": [],
   "source": [
    "num_bins = 16\n",
    "col_lst = ['mean_glucose', 'spike_resolutions', 'expected_daily_spikes',\n",
    "          'hyper_time_pcts', 'nocturnal_hypoglycemias','cestl, CESD-10 Score','moca_total_score_time',\n",
    "          'paate, How many hours since you last ate? (number',\n",
    "          \"cage, Age (in years)\"]\n",
    "df = bin_features(df, col_lst, num_bins)"
   ]
  },
  {
   "cell_type": "code",
   "execution_count": 8,
   "id": "6adca85f-d0c8-4030-a64a-47c0504c8127",
   "metadata": {
    "scrolled": true
   },
   "outputs": [
    {
     "name": "stdout",
     "output_type": "stream",
     "text": [
      "mhoccur_ad, Dementia (Examples: Alzheimer's Disea\n",
      "mhoccur_cogn, Mild cognitive impairment (known as\n",
      "mhoccur_ms, Multiple sclerosis\n",
      "mhoccur_pd, Parkinson's disease\n",
      "mhoccur_rvo, Retinal vascular occlusion (\"stroke \n"
     ]
    }
   ],
   "source": [
    "c = [\n",
    "    \"Unnamed: 0\",\n",
    "    'years_of_education',\n",
    "    \"brthyy, Year (e.g. 1967)\",\n",
    "    \"studyid, Participant Study ID\",\n",
    "]\n",
    "\n",
    "df.drop(columns=c,inplace=True)\n",
    "drop_columns=[]\n",
    "thresh=50\n",
    "sentinels = [55, 555, 88,99, 999]            # 55.0 matches 55 automatically\n",
    "alt = 15                                \n",
    "\n",
    "df = df.replace(sentinels, alt)\n",
    "# Find features with very high class imbalance to drop\n",
    "for col_name in df.select_dtypes(include=[np.number]).columns:\n",
    "    x = df[col_name] \n",
    "    num_non_zero = x.sum()\n",
    "    if num_non_zero < thresh:\n",
    "        print(col_name)\n",
    "        drop_columns.append(col_name)\n"
   ]
  },
  {
   "cell_type": "code",
   "execution_count": 4,
   "id": "0c279e2c-011a-489e-917b-9f66b9f77f8e",
   "metadata": {},
   "outputs": [
    {
     "name": "stdout",
     "output_type": "stream",
     "text": [
      "[\"mhoccur_ad, Dementia (Examples: Alzheimer's Disea\", 'mhoccur_cogn, Mild cognitive impairment (known as', 'mhoccur_ms, Multiple sclerosis', \"mhoccur_pd, Parkinson's disease\", 'mhoccur_rvo, Retinal vascular occlusion (\"stroke ']\n",
      "(1011, 248)\n",
      "Index(['participant_id', 'age', 'study_group', 'clinical_site',\n",
      "       'mhoccur_amd, Age-related macular degeneration (AM',\n",
      "       'mhoccur_ca, Cancer (any type)',\n",
      "       'mhoccur_circ, Circulation problems (Examples: art',\n",
      "       'mhoccur_cns, Other neurological conditions',\n",
      "       'mhoccur_crt, Cataracts (in one or both eyes)',\n",
      "       'mhoccur_cvdot, Other heart issues (Examples: pace',\n",
      "       'mhoccur_ded, Dry eye (in one or both eyes)',\n",
      "       'mhoccur_ear, Hearing impairment',\n",
      "       'mhoccur_gi, Digestive problems (Examples: stomach',\n",
      "       'mhoccur_glc, Glaucoma (in one or both eyes)',\n",
      "       'mhoccur_hbp, High blood pressure', 'mhoccur_lbp, Low blood pressure',\n",
      "       'mhoccur_mi, Heart attack', 'mhoccur_oa, Osteoporosis',\n",
      "       'mhoccur_obs, Obesity',\n",
      "       'mhoccur_plm, Chronic pulmonary (lung) problems (E'],\n",
      "      dtype='object')\n"
     ]
    }
   ],
   "source": [
    "# These are features that contain information about diabetes itself, so removed.\n",
    "invalid_feats = [\n",
    "                'paid_scrd, Feeling scared when you think about li',\n",
    "                'paid_wr, Worrying about the future and the possib',\n",
    "                'paid_eng, Feeling that diabetes is taking up too ',\n",
    "                'paid_cml, Coping with complications of diabetes',\n",
    "                'paid_dpr, Feeling depressed when you think about ',\n",
    "                'paidscore, PAID score',\n",
    "                'dmlfeet, How often do you inspect your feet?',\n",
    "                'dmlmd, Which of the following options best descri',\n",
    "                'dmledu, How often would you say that you engage i',\n",
    "                'cm_ibp, Have you taken ibuprofen or ibuprofen-con',\n",
    "                ]\n",
    "redundant_feats=[\n",
    "                'pulse_vsorres_2, Heart Rate (bpm)',   # This is a duplicate\n",
    "                'Carbon Dioxide, Total (mEq/L)',       # This feature is not relevant to diabetes progression\n",
    "                'mhoccur_clsh, High blood cholesterol' # Cholesterol measurements are present\n",
    "                ]\n",
    "\n",
    "drop_feat = [\n",
    "                'mhterm_predm, Pre-diabetes',\n",
    "                'mhterm_dm2, Type II Diabetes',\n",
    "                'mh_a1c, Elevated A1C levels (elevated blood sugar',\n",
    "                'mhoccur_pdr, Diabetic retinopathy (in one or both'\n",
    "    ]\n",
    "#Drop feature starting with cmtrt_a1c, this refers to taking diabetes measurement.\n",
    "df = df.drop(df.filter(regex=r\"^cmtrt_a1c\").columns, axis=1)\n",
    "\n",
    "print(drop_columns)\n",
    "df.drop(columns=drop_columns,inplace=True)\n",
    "df.drop(columns=invalid_feats,inplace=True)\n",
    "df.drop(columns=redundant_feats,inplace=True)\n",
    "df.drop(columns=drop_feat,inplace=True)\n",
    "print(df.shape)\n",
    "\n",
    "print(df.columns[0:20])"
   ]
  },
  {
   "cell_type": "code",
   "execution_count": 5,
   "id": "3ed4e3cd-3391-4699-a23d-d4878233d774",
   "metadata": {},
   "outputs": [
    {
     "name": "stdout",
     "output_type": "stream",
     "text": [
      "                                           Measurement  AvgAbsCorrelation\n",
      "40                                           HbA1c (%)           0.279153\n",
      "241                                       mean_glucose           0.218942\n",
      "244                                    hyper_time_pcts           0.200654\n",
      "21                        mhoccur_rnl, Kidney problems           0.197664\n",
      "246                            nocturnal_hypoglycemias           0.197612\n",
      "242                                  spike_resolutions           0.183711\n",
      "38                                     Glucose (mg/dL)           0.178575\n",
      "14                    mhoccur_hbp, High blood pressure           0.175141\n",
      "18                                mhoccur_obs, Obesity           0.161307\n",
      "164  dmlsugar, When reflecting on your typical eating            0.133272\n",
      "52                                    bmi_vsorres, BMI           0.123262\n",
      "41                                     INSULIN (ng/mL)           0.121865\n",
      "232         sualckncf, Have you ever consumed alcohol?           0.120506\n",
      "169  fh_dm2pt, Were either of your parents diagnosed w           0.119796\n",
      "127            waist_vsorres, Waist Circumference (cm)           0.119595\n",
      "20                  mhoccur_ra, Arthritis (joint pain)           0.116003\n",
      "['HbA1c (%)', 'mean_glucose', 'hyper_time_pcts', 'mhoccur_rnl, Kidney problems', 'nocturnal_hypoglycemias', 'spike_resolutions', 'Glucose (mg/dL)', 'mhoccur_hbp, High blood pressure', 'mhoccur_obs, Obesity', 'dmlsugar, When reflecting on your typical eating ', 'bmi_vsorres, BMI', 'INSULIN (ng/mL)', 'sualckncf, Have you ever consumed alcohol?', 'fh_dm2pt, Were either of your parents diagnosed w', 'waist_vsorres, Waist Circumference (cm)', 'mhoccur_ra, Arthritis (joint pain)']\n",
      "(584, 20)\n",
      "Index(['HbA1c (%)', 'mean_glucose', 'hyper_time_pcts',\n",
      "       'mhoccur_rnl, Kidney problems', 'nocturnal_hypoglycemias',\n",
      "       'spike_resolutions', 'Glucose (mg/dL)',\n",
      "       'mhoccur_hbp, High blood pressure', 'mhoccur_obs, Obesity',\n",
      "       'dmlsugar, When reflecting on your typical eating ', 'bmi_vsorres, BMI',\n",
      "       'INSULIN (ng/mL)', 'sualckncf, Have you ever consumed alcohol?',\n",
      "       'fh_dm2pt, Were either of your parents diagnosed w',\n",
      "       'waist_vsorres, Waist Circumference (cm)',\n",
      "       'mhoccur_ra, Arthritis (joint pain)', 'participant_id',\n",
      "       'study_group_id', 'recommended_split', 'healthy'],\n",
      "      dtype='object')\n"
     ]
    },
    {
     "name": "stderr",
     "output_type": "stream",
     "text": [
      "C:\\Users\\preet\\AppData\\Roaming\\Python\\Python310\\site-packages\\numpy\\lib\\_function_base_impl.py:3045: RuntimeWarning: invalid value encountered in divide\n",
      "  c /= stddev[:, None]\n",
      "C:\\Users\\preet\\AppData\\Roaming\\Python\\Python310\\site-packages\\numpy\\lib\\_function_base_impl.py:3046: RuntimeWarning: invalid value encountered in divide\n",
      "  c /= stddev[None, :]\n",
      "C:\\Users\\preet\\AppData\\Roaming\\Python\\Python310\\site-packages\\numpy\\lib\\_function_base_impl.py:3045: RuntimeWarning: invalid value encountered in divide\n",
      "  c /= stddev[:, None]\n",
      "C:\\Users\\preet\\AppData\\Roaming\\Python\\Python310\\site-packages\\numpy\\lib\\_function_base_impl.py:3046: RuntimeWarning: invalid value encountered in divide\n",
      "  c /= stddev[None, :]\n"
     ]
    },
    {
     "name": "stdout",
     "output_type": "stream",
     "text": [
      "                                           Measurement  AvgAbsCorrelation\n",
      "244                                    hyper_time_pcts           0.384884\n",
      "40                                           HbA1c (%)           0.353122\n",
      "241                                       mean_glucose           0.331168\n",
      "38                                     Glucose (mg/dL)           0.307549\n",
      "42                 LDL Cholesterol Calculation (mg/dL)           0.305892\n",
      "47                           Total Cholesterol (mg/dL)           0.299597\n",
      "242                                  spike_resolutions           0.298989\n",
      "246                            nocturnal_hypoglycemias           0.250721\n",
      "129              whr_vsorres, Waist to Hip Ratio (WHR)           0.199008\n",
      "39                             HDL Cholesterol (mg/dL)           0.195166\n",
      "14                    mhoccur_hbp, High blood pressure           0.194265\n",
      "127            waist_vsorres, Waist Circumference (cm)           0.188936\n",
      "104                    pulse_vsorres, Heart Rate (bpm)           0.168232\n",
      "169  fh_dm2pt, Were either of your parents diagnosed w           0.152101\n",
      "236  via2, How much difficulty, if any, do you have re           0.139806\n",
      "243                              expected_daily_spikes           0.139761\n",
      "['hyper_time_pcts', 'HbA1c (%)', 'mean_glucose', 'Glucose (mg/dL)', 'LDL Cholesterol Calculation (mg/dL)', 'Total Cholesterol (mg/dL)', 'spike_resolutions', 'nocturnal_hypoglycemias', 'whr_vsorres, Waist to Hip Ratio (WHR)', 'HDL Cholesterol (mg/dL)', 'mhoccur_hbp, High blood pressure', 'waist_vsorres, Waist Circumference (cm)', 'pulse_vsorres, Heart Rate (bpm)', 'fh_dm2pt, Were either of your parents diagnosed w', 'via2, How much difficulty, if any, do you have re', 'expected_daily_spikes']\n",
      "(538, 20)\n",
      "Index(['hyper_time_pcts', 'HbA1c (%)', 'mean_glucose', 'Glucose (mg/dL)',\n",
      "       'LDL Cholesterol Calculation (mg/dL)', 'Total Cholesterol (mg/dL)',\n",
      "       'spike_resolutions', 'nocturnal_hypoglycemias',\n",
      "       'whr_vsorres, Waist to Hip Ratio (WHR)', 'HDL Cholesterol (mg/dL)',\n",
      "       'mhoccur_hbp, High blood pressure',\n",
      "       'waist_vsorres, Waist Circumference (cm)',\n",
      "       'pulse_vsorres, Heart Rate (bpm)',\n",
      "       'fh_dm2pt, Were either of your parents diagnosed w',\n",
      "       'via2, How much difficulty, if any, do you have re',\n",
      "       'expected_daily_spikes', 'participant_id', 'study_group_id',\n",
      "       'recommended_split', 'healthy'],\n",
      "      dtype='object')\n",
      "                                           Measurement  AvgAbsCorrelation\n",
      "36                                  Creatinine (mg/dL)           0.302799\n",
      "241                                       mean_glucose           0.292878\n",
      "49                                   Troponin-T (ng/L)           0.286702\n",
      "244                                    hyper_time_pcts           0.255862\n",
      "246                            nocturnal_hypoglycemias           0.253167\n",
      "29                                         BUN (mg/dL)           0.228704\n",
      "83             mlcsodlog, OD: Log Contrast Sensitivity           0.208455\n",
      "21                        mhoccur_rnl, Kidney problems           0.203340\n",
      "82        mlcsodfcl, OD: Value of final correct letter           0.198785\n",
      "237  via3, Because of your eyesight, how much difficul           0.188420\n",
      "33                                     CRP - HS (mg/L)           0.184840\n",
      "102            plcsoslog, OS: Log Contrast Sensitivity           0.184372\n",
      "27                                      Albumin (g/dL)           0.183929\n",
      "235  via1, How much difficulty, if any, do you have in           0.181361\n",
      "101       plcsosfcl, OS: Value of final correct letter           0.179760\n",
      "40                                           HbA1c (%)           0.174401\n",
      "['Creatinine (mg/dL)', 'mean_glucose', 'Troponin-T (ng/L)', 'hyper_time_pcts', 'nocturnal_hypoglycemias', 'BUN (mg/dL)', 'mlcsodlog, OD: Log Contrast Sensitivity', 'mhoccur_rnl, Kidney problems', 'mlcsodfcl, OD: Value of final correct letter', 'via3, Because of your eyesight, how much difficul', 'CRP - HS (mg/L)', 'plcsoslog, OS: Log Contrast Sensitivity', 'Albumin (g/dL)', 'via1, How much difficulty, if any, do you have in', 'plcsosfcl, OS: Value of final correct letter', 'HbA1c (%)']\n",
      "(427, 20)\n",
      "Index(['Creatinine (mg/dL)', 'mean_glucose', 'Troponin-T (ng/L)',\n",
      "       'hyper_time_pcts', 'nocturnal_hypoglycemias', 'BUN (mg/dL)',\n",
      "       'mlcsodlog, OD: Log Contrast Sensitivity',\n",
      "       'mhoccur_rnl, Kidney problems',\n",
      "       'mlcsodfcl, OD: Value of final correct letter',\n",
      "       'via3, Because of your eyesight, how much difficul', 'CRP - HS (mg/L)',\n",
      "       'plcsoslog, OS: Log Contrast Sensitivity', 'Albumin (g/dL)',\n",
      "       'via1, How much difficulty, if any, do you have in',\n",
      "       'plcsosfcl, OS: Value of final correct letter', 'HbA1c (%)',\n",
      "       'participant_id', 'study_group_id', 'recommended_split', 'healthy'],\n",
      "      dtype='object')\n"
     ]
    },
    {
     "name": "stderr",
     "output_type": "stream",
     "text": [
      "C:\\Users\\preet\\AppData\\Roaming\\Python\\Python310\\site-packages\\numpy\\lib\\_function_base_impl.py:3045: RuntimeWarning: invalid value encountered in divide\n",
      "  c /= stddev[:, None]\n",
      "C:\\Users\\preet\\AppData\\Roaming\\Python\\Python310\\site-packages\\numpy\\lib\\_function_base_impl.py:3046: RuntimeWarning: invalid value encountered in divide\n",
      "  c /= stddev[None, :]\n"
     ]
    }
   ],
   "source": [
    "num_top_features = 16\n",
    "study_groups = [0,1]\n",
    "df_subset = extract_df_with_features(df, study_groups, num_top_features)\n",
    "df_subset.head()\n",
    "print(df_subset.shape)\n",
    "print(df_subset.columns)\n",
    "fname = 'dataset_progression_analysis_'+str(study_groups[0])+\"_\" + str(study_groups[1])+'.csv'\n",
    "df_subset.to_csv(fname)\n",
    "\n",
    "study_groups = [1,2]\n",
    "df_subset = extract_df_with_features(df, study_groups, num_top_features)\n",
    "df_subset.head()\n",
    "print(df_subset.shape)\n",
    "print(df_subset.columns)\n",
    "fname =  'dataset_progression_analysis_'+str(study_groups[0])+\"_\" + str(study_groups[1])+'.csv'\n",
    "df_subset.to_csv(fname)\n",
    "\n",
    "study_groups = [2,3]\n",
    "df_subset = extract_df_with_features(df, study_groups, num_top_features)\n",
    "df_subset.head()\n",
    "print(df_subset.shape)\n",
    "print(df_subset.columns)\n",
    "fname = 'dataset_progression_analysis_'+str(study_groups[0])+\"_\" + str(study_groups[1])+'.csv'\n",
    "df_subset.to_csv(fname)"
   ]
  },
  {
   "cell_type": "code",
   "execution_count": null,
   "id": "286b90d0-dc36-481a-bc0e-24f6b2de45cc",
   "metadata": {},
   "outputs": [],
   "source": []
  },
  {
   "cell_type": "code",
   "execution_count": null,
   "id": "c3633793-5c9b-41aa-8a2a-0c13a48a3d9d",
   "metadata": {},
   "outputs": [],
   "source": []
  },
  {
   "cell_type": "code",
   "execution_count": null,
   "id": "a228c0ad-a3f7-465e-a450-464793003d3a",
   "metadata": {},
   "outputs": [],
   "source": []
  }
 ],
 "metadata": {
  "kernelspec": {
   "display_name": "Python 3 (ipykernel)",
   "language": "python",
   "name": "python3"
  },
  "language_info": {
   "codemirror_mode": {
    "name": "ipython",
    "version": 3
   },
   "file_extension": ".py",
   "mimetype": "text/x-python",
   "name": "python",
   "nbconvert_exporter": "python",
   "pygments_lexer": "ipython3",
   "version": "3.10.18"
  }
 },
 "nbformat": 4,
 "nbformat_minor": 5
}
